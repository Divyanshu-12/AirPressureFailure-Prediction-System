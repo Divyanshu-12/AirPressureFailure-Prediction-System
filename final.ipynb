{
 "cells": [
  {
   "cell_type": "markdown",
   "metadata": {},
   "source": [
    "## Importing necessary libraries"
   ]
  },
  {
   "cell_type": "code",
   "execution_count": 1,
   "metadata": {},
   "outputs": [],
   "source": [
    "import pandas as pd\n",
    "import numpy as np\n",
    "import warnings\n",
    "warnings.filterwarnings(\"ignore\")\n",
    "from sklearn.impute import KNNImputer\n",
    "from sklearn.linear_model import LogisticRegression\n",
    "from sklearn.metrics import f1_score\n",
    "from xgboost import XGBClassifier\n",
    "import joblib\n",
    "from sklearn.metrics import f1_score\n",
    "import math"
   ]
  },
  {
   "cell_type": "markdown",
   "metadata": {},
   "source": [
    "#### defining function 1"
   ]
  },
  {
   "cell_type": "code",
   "execution_count": 2,
   "metadata": {},
   "outputs": [],
   "source": [
    "def function1(path):\n",
    "    \n",
    "    \"\"\"\n",
    "    this function takes path of raw test data as input and\n",
    "    prints class label for the point\n",
    "    \"\"\"\n",
    "    \n",
    "    test_df = pd.read_csv(path)\n",
    "\n",
    "\n",
    "    test_df = test_df.drop([\"bn_000\",\"bo_000\",\"bp_000\",\"bq_000\",\"br_000\"],axis=1)# drop these columns\n",
    "\n",
    "    test_df[[\"ab_000\",\"cr_000\"]] = test_df[[\"ab_000\",\"cr_000\"]].fillna(1) # fill nan values with 1\n",
    "\n",
    "    test_df.loc[test_df[\"ab_000\"] != 1, \"ab_000\"] = 0# fill everything except 1 with zero\n",
    "    test_df.loc[test_df[\"cr_000\"] != 1, \"cr_000\"] = 0\n",
    "\n",
    "    test_df_70 = test_df[[\"ab_000\",\"cr_000\"]]\n",
    "    \n",
    "    knn_imputer = \"knn_imputer.pkl\"\n",
    "    new_imputer = joblib.load(knn_imputer)\n",
    "\n",
    "    median = pd.read_csv(\"median.csv\")\n",
    "    miss_column_10 = np.load(\"median_column.npy\",allow_pickle=True)\n",
    "    miss_column_10_70 = np.load(\"knn_column.npy\",allow_pickle=True)\n",
    "    \n",
    "    # replace values in those columns which have missing value less than 10% by median value of train data for corresponding feature\n",
    "    test_df[miss_column_10] = test_df[miss_column_10].fillna(median[\"0\"].median())\n",
    "    test_df_10 = test_df[miss_column_10]\n",
    "    \n",
    "    test_df_10_70 = pd.DataFrame(new_imputer.transform(test_df[miss_column_10_70]))\n",
    "    test_df_10_70.columns = miss_column_10_70\n",
    "    test_df_10_70.isnull().values.any()\n",
    "    \n",
    "    test_cleaned = pd.concat([test_df_10,test_df_10_70,test_df_70],axis=1)\n",
    "    \n",
    "    top_10 = ['bi_000', 'ay_002', 'ay_006', 'cc_000', 'ay_008', 'al_000', 'ag_001','ag_002', 'bj_000', 'ay_005'] \n",
    "    top_4 = [\"ay_006\", \"cc_000\", \"ay_008\", \"bj_000\"]\n",
    "    top_4_median = [165116.0, 2112040.0, 92906.0, 154640.0]\n",
    "    \n",
    "    for i in top_10:\n",
    "        \n",
    "        temp1 = i + \"_sin\"\n",
    "        temp2 = i + \"_log\"\n",
    "    \n",
    "        test_cleaned[temp2] = test_cleaned[i].apply(lambda x: math.log(x+1))\n",
    "        test_cleaned[temp1] = test_cleaned[i].apply(lambda x: math.sin(x))\n",
    "        \n",
    "    for i in range(4):\n",
    "    \n",
    "        temp1 = top_4[i] + \"_median\"\n",
    "        test_cleaned[temp1] = test_cleaned[top_4[i]] - top_4_median[i]\n",
    "        \n",
    "    my_model = \"model.pkl\"\n",
    "    clf = joblib.load(my_model)\n",
    "    y_test_pred = clf.predict(test_cleaned)\n",
    "    print(\"prediction is is - \",y_test_pred[0])"
   ]
  },
  {
   "cell_type": "markdown",
   "metadata": {},
   "source": [
    "#### testing function 1"
   ]
  },
  {
   "cell_type": "code",
   "execution_count": 3,
   "metadata": {},
   "outputs": [
    {
     "name": "stdout",
     "output_type": "stream",
     "text": [
      "prediction is is -  0\n"
     ]
    }
   ],
   "source": [
    "function1(\"single_data.csv\")"
   ]
  },
  {
   "cell_type": "markdown",
   "metadata": {},
   "source": [
    "#### defining function 2"
   ]
  },
  {
   "cell_type": "code",
   "execution_count": 7,
   "metadata": {},
   "outputs": [],
   "source": [
    "def function2(path):\n",
    "    \n",
    "    \"\"\"\n",
    "    this function takes path of raw test data as input and\n",
    "    print(macro f1 score)\n",
    "    \"\"\"\n",
    "    \n",
    "    test_df = pd.read_csv(path)#nrows=1000)\n",
    "    # droping useless columns\n",
    "    test_df = test_df.drop([\"bn_000\",\"bo_000\",\"bp_000\",\"bq_000\",\"br_000\"],axis=1)# drop these columns\n",
    "    test_df[[\"ab_000\",\"cr_000\"]] = test_df[[\"ab_000\",\"cr_000\"]].fillna(1) # fill nan values with 1\n",
    "\n",
    "    test_df.loc[test_df[\"ab_000\"] != 1, \"ab_000\"] = 0# fill everything except 1 with zero\n",
    "    test_df.loc[test_df[\"cr_000\"] != 1, \"cr_000\"] = 0\n",
    "\n",
    "    test_df_70 = test_df[[\"ab_000\",\"cr_000\"]]\n",
    "    \n",
    "    # load knn imputer\n",
    "    knn_imputer = \"knn_imputer.pkl\"\n",
    "    new_imputer = joblib.load(knn_imputer)\n",
    "\n",
    "    median = pd.read_csv(\"median.csv\")\n",
    "    miss_column_10 = np.load(\"median_column.npy\",allow_pickle=True)\n",
    "    miss_column_10_70 = np.load(\"knn_column.npy\",allow_pickle=True)\n",
    "    \n",
    "    # replace values in those columns which have missing value less than 10% by median value of train data for corresponding feature\n",
    "    test_df[miss_column_10] = test_df[miss_column_10].fillna(median[\"0\"].median())\n",
    "\n",
    "    test_df_10 = test_df[miss_column_10]\n",
    "    \n",
    "    # replace values in those columns which have missing value between 10% and 70% by knn imputer\n",
    "    test_df_10_70 = pd.DataFrame(new_imputer.transform(test_df[miss_column_10_70]))\n",
    "    test_df_10_70.columns = miss_column_10_70\n",
    "    \n",
    "    test_cleaned = pd.concat([test_df_10,test_df_10_70,test_df_70],axis=1)\n",
    "    test_cleaned[\"class\"] = test_df[\"class\"]\n",
    "    \n",
    "    top_10 = ['bi_000', 'ay_002', 'ay_006', 'cc_000', 'ay_008', 'al_000', 'ag_001','ag_002', 'bj_000', 'ay_005'] \n",
    "    top_4 = [\"ay_006\", \"cc_000\", \"ay_008\", \"bj_000\"]\n",
    "    top_4_median = [165116.0, 2112040.0, 92906.0, 154640.0]\n",
    "    \n",
    "    # feature engg\n",
    "    for i in top_10:\n",
    "        \n",
    "        temp1 = i + \"_sin\"\n",
    "        temp2 = i + \"_log\"\n",
    "    \n",
    "        test_cleaned[temp2] = test_cleaned[i].apply(lambda x: math.log(x+1))\n",
    "        test_cleaned[temp1] = test_cleaned[i].apply(lambda x: math.sin(x))\n",
    "        \n",
    "    for i in range(4):\n",
    "    \n",
    "        temp1 = top_4[i] + \"_median\"\n",
    "        test_cleaned[temp1] = test_cleaned[top_4[i]] - top_4_median[i]\n",
    "        \n",
    "    # loading best model\n",
    "    my_model = \"model.pkl\"\n",
    "    clf = joblib.load(my_model)\n",
    "    \n",
    "    y_test = test_cleaned[\"class\"]\n",
    "    x_test = test_cleaned.drop([\"class\"],axis=1)\n",
    "    y_test_pred = clf.predict(x_test)\n",
    "    \n",
    "    f1_test = f1_score(y_test,y_test_pred, average='macro')\n",
    "    print(\"Test macro f1 is - \",f1_test)"
   ]
  },
  {
   "cell_type": "markdown",
   "metadata": {},
   "source": [
    "#### testing function 2"
   ]
  },
  {
   "cell_type": "code",
   "execution_count": 8,
   "metadata": {},
   "outputs": [
    {
     "name": "stdout",
     "output_type": "stream",
     "text": [
      "Test macro f1 is -  0.9144926251071502\n"
     ]
    }
   ],
   "source": [
    "function2(\"test.csv\")"
   ]
  },
  {
   "cell_type": "markdown",
   "metadata": {},
   "source": [
    "## working demo link"
   ]
  },
  {
   "cell_type": "markdown",
   "metadata": {},
   "source": [
    "https://youtu.be/ODcfNROq8ck"
   ]
  }
 ],
 "metadata": {
  "kernelspec": {
   "display_name": "Python 3",
   "language": "python",
   "name": "python3"
  },
  "language_info": {
   "codemirror_mode": {
    "name": "ipython",
    "version": 3
   },
   "file_extension": ".py",
   "mimetype": "text/x-python",
   "name": "python",
   "nbconvert_exporter": "python",
   "pygments_lexer": "ipython3",
   "version": "3.7.6"
  }
 },
 "nbformat": 4,
 "nbformat_minor": 4
}
