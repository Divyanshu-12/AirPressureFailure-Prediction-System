{
 "cells": [
  {
   "cell_type": "markdown",
   "metadata": {},
   "source": [
    "## FLASK APP "
   ]
  },
  {
   "cell_type": "code",
   "execution_count": null,
   "metadata": {},
   "outputs": [],
   "source": [
    "import pandas as pd\n",
    "import numpy as np\n",
    "import warnings\n",
    "warnings.filterwarnings(\"ignore\")\n",
    "from sklearn.impute import KNNImputer\n",
    "import random\n",
    "from sklearn.metrics import f1_score\n",
    "import joblib\n",
    "import math\n",
    "from flask import Flask, jsonify, request\n",
    "import flask\n",
    "import time\n",
    "\n",
    "\n",
    "app = Flask(__name__)\n",
    "\n",
    "@app.route('/')\n",
    "def hello_world():\n",
    "    return 'welcome to aps prediction system'\n",
    "\n",
    "@app.route('/index')\n",
    "def index():\n",
    "    return flask.render_template('index.html')\n",
    "\n",
    "@app.route('/predict', methods=['POST'])\n",
    "def predict():\n",
    "    \n",
    "    \"\"\"\n",
    "    this function takes path of single data point as input and\n",
    "    returns predicted class label\n",
    "    \"\"\"\n",
    "    start = time.time()\n",
    "\n",
    "    path = request.form.to_dict()\n",
    "    #print(path)\n",
    "    test_df = pd.read_csv(path[\"file_name\"])\n",
    "    test_df = test_df.drop([\"bn_000\",\"bo_000\",\"bp_000\",\"bq_000\",\"br_000\"],axis=1)# drop these columns\n",
    "\n",
    "    test_df[[\"ab_000\",\"cr_000\"]] = test_df[[\"ab_000\",\"cr_000\"]].fillna(1) # fill nan values with 1\n",
    "\n",
    "    test_df.loc[test_df[\"ab_000\"] != 1, \"ab_000\"] = 0# fill everything except 1 with zero\n",
    "    test_df.loc[test_df[\"cr_000\"] != 1, \"cr_000\"] = 0\n",
    "\n",
    "    test_df_70 = test_df[[\"ab_000\",\"cr_000\"]]\n",
    "    \n",
    "    knn_imputer = \"knn_imputer.pkl\"\n",
    "    new_imputer = joblib.load(knn_imputer)\n",
    "\n",
    "    median = pd.read_csv(\"median.csv\")\n",
    "    miss_column_10 = np.load(\"median_column.npy\",allow_pickle=True)\n",
    "    miss_column_10_70 = np.load(\"knn_column.npy\",allow_pickle=True)\n",
    "    \n",
    "    # replace values in those columns which have missing value less than 10% by median value of train data for corresponding feature\n",
    "    test_df[miss_column_10] = test_df[miss_column_10].fillna(median[\"0\"].median())\n",
    "    test_df_10 = test_df[miss_column_10]\n",
    "    \n",
    "    test_df_10_70 = pd.DataFrame(new_imputer.transform(test_df[miss_column_10_70]))\n",
    "    test_df_10_70.columns = miss_column_10_70\n",
    "    test_df_10_70.isnull().values.any()\n",
    "    # store all the cleaned data in a dataframe\n",
    "    test_cleaned = pd.concat([test_df_10,test_df_10_70,test_df_70],axis=1)\n",
    "    \n",
    "    # doing feature engg\n",
    "    top_10 = ['bi_000', 'ay_002', 'ay_006', 'cc_000', 'ay_008', 'al_000', 'ag_001','ag_002', 'bj_000', 'ay_005'] \n",
    "    top_4 = [\"ay_006\", \"cc_000\", \"ay_008\", \"bj_000\"]\n",
    "    top_4_median = [165116.0, 2112040.0, 92906.0, 154640.0]\n",
    "    \n",
    "    for i in top_10:\n",
    "        \n",
    "        temp1 = i + \"_sin\"\n",
    "        temp2 = i + \"_log\"\n",
    "    \n",
    "        test_cleaned[temp2] = test_cleaned[i].apply(lambda x: math.log(x+1))\n",
    "        test_cleaned[temp1] = test_cleaned[i].apply(lambda x: math.sin(x))\n",
    "        \n",
    "    for i in range(4):\n",
    "    \n",
    "        temp1 = top_4[i] + \"_median\"\n",
    "        test_cleaned[temp1] = test_cleaned[top_4[i]] - top_4_median[i]\n",
    "        \n",
    "    my_model = \"model.pkl\"\n",
    "    clf = joblib.load(my_model)\n",
    "    y_test_pred = clf.predict(test_cleaned)\n",
    "\n",
    "    end = time.time()\n",
    "    total = end - start\n",
    "\n",
    "    if y_test_pred[0] == 0:\n",
    "        return \"Failue has nothing to do with APS, Total time taken is \" + str(round(total,2)) + \" seconds\"\n",
    "    else:\n",
    "        return \"Failue is due to do APS, Total time taken is \" + str(round(total,2)) + \" seconds\"\n",
    "\n",
    "    \n",
    "if __name__ == '__main__':\n",
    "    app.run(host='0.0.0.0', port=8080)"
   ]
  },
  {
   "cell_type": "markdown",
   "metadata": {},
   "source": [
    "## html "
   ]
  },
  {
   "cell_type": "code",
   "execution_count": null,
   "metadata": {},
   "outputs": [],
   "source": [
    "<!DOCTYPE html>\n",
    "<html>\n",
    "<head>\n",
    "\t<title>APS </title>\n",
    "</head>\n",
    "<body>\n",
    "\t<H1>Welcome to APS Failure Detection System</H1>\n",
    "\n",
    "\t<h2>Please enter path for Input file.</h2>\n",
    "\t<h2>This file consists of sensor readings obtained from Scania trucks as a CSV file.</h2>\n",
    "\t<h2>Based on this data, we can predict whether, Failure has anything to do with APS or not</h2>\n",
    "\n",
    "\t<form action=\"/predict\" method=\"POST\">\n",
    "\n",
    "\t\t<input type=\"text\" id=\"file_name\" name=\"file_name\">\n",
    "\t\t<input type=\"submit\" value=\"Submit\">\n",
    "\n",
    "\t</form>\n",
    "\n",
    "</body>\n",
    "</html>"
   ]
  },
  {
   "cell_type": "markdown",
   "metadata": {},
   "source": [
    "## working demo link"
   ]
  },
  {
   "cell_type": "markdown",
   "metadata": {},
   "source": [
    "https://youtu.be/ODcfNROq8ck"
   ]
  }
 ],
 "metadata": {
  "kernelspec": {
   "display_name": "Python 3",
   "language": "python",
   "name": "python3"
  },
  "language_info": {
   "codemirror_mode": {
    "name": "ipython",
    "version": 3
   },
   "file_extension": ".py",
   "mimetype": "text/x-python",
   "name": "python",
   "nbconvert_exporter": "python",
   "pygments_lexer": "ipython3",
   "version": "3.7.6"
  }
 },
 "nbformat": 4,
 "nbformat_minor": 4
}
